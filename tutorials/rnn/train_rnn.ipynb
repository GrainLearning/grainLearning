{
 "cells": [
  {
   "cell_type": "markdown",
   "id": "c064b8dd-84ac-4da4-9701-9cc296414650",
   "metadata": {},
   "source": [
    "# Tutorial: How to train a rnn using grainlearning.rnn"
   ]
  },
  {
   "cell_type": "markdown",
   "id": "f0d3daa5-ced1-4a89-9a27-4efcaf88f886",
   "metadata": {},
   "source": [
    "## ⚙️ Install grainlearning package\n",
    "(Not necessary if you are running jupyter-lab on an environment where grainlearning and rnn dependencies are installed)"
   ]
  },
  {
   "cell_type": "markdown",
   "id": "4e11d1c8-a9a2-47dd-81cd-59369c5b79c6",
   "metadata": {},
   "source": [
    "pip install grainlearning --extras \"rnn\""
   ]
  },
  {
   "cell_type": "markdown",
   "id": "915d05b1-c05e-4a4b-811b-e946d2cf823f",
   "metadata": {},
   "source": [
    "## Option 1: Train using wandb"
   ]
  },
  {
   "cell_type": "code",
   "execution_count": 1,
   "id": "11e50e9d-c1c0-47ce-8d0a-017d94a1e56e",
   "metadata": {},
   "outputs": [],
   "source": [
    "import grainlearning.rnn.train as train_rnn\n",
    "import wandb"
   ]
  },
  {
   "cell_type": "code",
   "execution_count": 5,
   "id": "04d4f2e5-8bd2-4102-9121-eefd4512dbb1",
   "metadata": {},
   "outputs": [],
   "source": [
    "# dictionary with the configuration of the training\n",
    "my_config = {\n",
    "        'raw_data': '/Users/luisaorozco/Documents/Projects/GrainLearning/data/TriaxialCompression/path_sampling_rnn_Luisa.hdf5',\n",
    "        'pressure': 'All',\n",
    "        'experiment_type': 'All',\n",
    "        'window_size': 20,\n",
    "        'window_step': 1,\n",
    "        'patience': 25,\n",
    "        'epochs': 10,\n",
    "        'learning_rate': 1e-4,\n",
    "        'lstm_units': 250,\n",
    "        'dense_units': 250,\n",
    "        'batch_size': 256,\n",
    "        'standardize_outputs': True,\n",
    "        'add_e0': True,\n",
    "        'save_weights_only': False\n",
    "    }"
   ]
  },
  {
   "cell_type": "code",
   "execution_count": 3,
   "id": "cf0caf89-0cd6-442f-8bda-974bf37e2116",
   "metadata": {},
   "outputs": [
    {
     "name": "stderr",
     "output_type": "stream",
     "text": [
      "\u001b[34m\u001b[1mwandb\u001b[0m: Currently logged in as: \u001b[33mluisaforozco\u001b[0m. Use \u001b[1m`wandb login --relogin`\u001b[0m to force relogin\n"
     ]
    },
    {
     "data": {
      "text/html": [
       "wandb version 0.13.10 is available!  To upgrade, please run:\n",
       " $ pip install wandb --upgrade"
      ],
      "text/plain": [
       "<IPython.core.display.HTML object>"
      ]
     },
     "metadata": {},
     "output_type": "display_data"
    },
    {
     "data": {
      "text/html": [
       "Tracking run with wandb version 0.13.7"
      ],
      "text/plain": [
       "<IPython.core.display.HTML object>"
      ]
     },
     "metadata": {},
     "output_type": "display_data"
    },
    {
     "data": {
      "text/html": [
       "Run data is saved locally in <code>/Users/luisaorozco/Documents/Projects/GrainLearning/grainLearning/tutorials/rnn/wandb/run-20230208_155309-gb8m6n42</code>"
      ],
      "text/plain": [
       "<IPython.core.display.HTML object>"
      ]
     },
     "metadata": {},
     "output_type": "display_data"
    },
    {
     "data": {
      "text/html": [
       "Syncing run <strong><a href=\"https://wandb.ai/luisaforozco/grainLearning-tutorials_rnn/runs/gb8m6n42\" target=\"_blank\">playful-rain-3</a></strong> to <a href=\"https://wandb.ai/luisaforozco/grainLearning-tutorials_rnn\" target=\"_blank\">Weights & Biases</a> (<a href=\"https://wandb.me/run\" target=\"_blank\">docs</a>)<br/>"
      ],
      "text/plain": [
       "<IPython.core.display.HTML object>"
      ]
     },
     "metadata": {},
     "output_type": "display_data"
    },
    {
     "name": "stderr",
     "output_type": "stream",
     "text": [
      "No pad_length specified in config, using default 0.\n",
      "No train_frac specified in config, using default 0.7.\n",
      "No val_frac specified in config, using default 0.15.\n",
      "No add_pressure specified in config, using default True.\n",
      "No add_experiment_type specified in config, using default True.\n",
      "Unexpected key in config: use_windows. Allowed keys are dict_keys(['raw_data', 'pressure', 'experiment_type', 'add_e0', 'add_pressure', 'add_experiment_type', 'train_frac', 'val_frac', 'window_size', 'window_step', 'pad_length', 'lstm_units', 'dense_units', 'patience', 'epochs', 'learning_rate', 'batch_size', 'standardize_outputs', 'save_weights_only']).\n",
      "2023-02-08 15:53:12.013046: I tensorflow/core/common_runtime/pluggable_device/pluggable_device_factory.cc:305] Could not identify NUMA node of platform GPU ID 0, defaulting to 0. Your kernel may not have been built with NUMA support.\n",
      "2023-02-08 15:53:12.013166: I tensorflow/core/common_runtime/pluggable_device/pluggable_device_factory.cc:271] Created TensorFlow device (/job:localhost/replica:0/task:0/device:GPU:0 with 0 MB memory) -> physical PluggableDevice (device: 0, name: METAL, pci bus id: <undefined>)\n"
     ]
    },
    {
     "name": "stdout",
     "output_type": "stream",
     "text": [
      "Metal device set to: Apple M1 Pro\n"
     ]
    },
    {
     "name": "stderr",
     "output_type": "stream",
     "text": [
      "\u001b[34m\u001b[1mwandb\u001b[0m: \u001b[33mWARNING\u001b[0m The save_model argument by default saves the model in the HDF5 format that cannot save custom objects like subclassed models and custom layers. This behavior will be deprecated in a future release in favor of the SavedModel format. Meanwhile, the HDF5 model is saved as W&B files and the SavedModel as W&B Artifacts.\n"
     ]
    },
    {
     "name": "stdout",
     "output_type": "stream",
     "text": [
      "Epoch 1/10\n"
     ]
    },
    {
     "name": "stderr",
     "output_type": "stream",
     "text": [
      "2023-02-08 15:53:12.679006: W tensorflow/core/platform/profile_utils/cpu_utils.cc:128] Failed to get CPU frequency: 0 Hz\n",
      "2023-02-08 15:53:12.686173: I tensorflow/core/grappler/optimizers/custom_graph_optimizer_registry.cc:113] Plugin optimizer for device_type GPU is enabled.\n",
      "2023-02-08 15:53:12.841888: I tensorflow/core/grappler/optimizers/custom_graph_optimizer_registry.cc:113] Plugin optimizer for device_type GPU is enabled.\n"
     ]
    },
    {
     "name": "stdout",
     "output_type": "stream",
     "text": [
      "  1/115 [..............................] - ETA: 1:43 - loss: 0.7112 - mae: 0.5182"
     ]
    },
    {
     "name": "stderr",
     "output_type": "stream",
     "text": [
      "2023-02-08 15:53:13.039517: I tensorflow/core/grappler/optimizers/custom_graph_optimizer_registry.cc:113] Plugin optimizer for device_type GPU is enabled.\n"
     ]
    },
    {
     "name": "stdout",
     "output_type": "stream",
     "text": [
      "115/115 [==============================] - ETA: 0s - loss: 1.0181 - mae: 0.5196"
     ]
    },
    {
     "name": "stderr",
     "output_type": "stream",
     "text": [
      "2023-02-08 15:53:15.179723: I tensorflow/core/grappler/optimizers/custom_graph_optimizer_registry.cc:113] Plugin optimizer for device_type GPU is enabled.\n",
      "2023-02-08 15:53:15.231083: I tensorflow/core/grappler/optimizers/custom_graph_optimizer_registry.cc:113] Plugin optimizer for device_type GPU is enabled.\n",
      "WARNING:absl:Found untraced functions such as lstm_cell_layer_call_fn, lstm_cell_layer_call_and_return_conditional_losses while saving (showing 2 of 2). These functions will not be directly callable after loading.\n"
     ]
    },
    {
     "name": "stdout",
     "output_type": "stream",
     "text": [
      "INFO:tensorflow:Assets written to: /Users/luisaorozco/Documents/Projects/GrainLearning/grainLearning/tutorials/rnn/wandb/run-20230208_155309-gb8m6n42/files/model-best/assets\n"
     ]
    },
    {
     "name": "stderr",
     "output_type": "stream",
     "text": [
      "INFO:tensorflow:Assets written to: /Users/luisaorozco/Documents/Projects/GrainLearning/grainLearning/tutorials/rnn/wandb/run-20230208_155309-gb8m6n42/files/model-best/assets\n",
      "\u001b[34m\u001b[1mwandb\u001b[0m: Adding directory to artifact (/Users/luisaorozco/Documents/Projects/GrainLearning/grainLearning/tutorials/rnn/wandb/run-20230208_155309-gb8m6n42/files/model-best)... Done. 0.0s\n"
     ]
    },
    {
     "name": "stdout",
     "output_type": "stream",
     "text": [
      "115/115 [==============================] - 5s 34ms/step - loss: 1.0181 - mae: 0.5196 - val_loss: 0.5334 - val_mae: 0.4520\n",
      "Epoch 2/10\n",
      "114/115 [============================>.] - ETA: 0s - loss: 0.8721 - mae: 0.4411"
     ]
    },
    {
     "name": "stderr",
     "output_type": "stream",
     "text": [
      "WARNING:absl:Found untraced functions such as lstm_cell_layer_call_fn, lstm_cell_layer_call_and_return_conditional_losses while saving (showing 2 of 2). These functions will not be directly callable after loading.\n"
     ]
    },
    {
     "name": "stdout",
     "output_type": "stream",
     "text": [
      "INFO:tensorflow:Assets written to: /Users/luisaorozco/Documents/Projects/GrainLearning/grainLearning/tutorials/rnn/wandb/run-20230208_155309-gb8m6n42/files/model-best/assets\n"
     ]
    },
    {
     "name": "stderr",
     "output_type": "stream",
     "text": [
      "INFO:tensorflow:Assets written to: /Users/luisaorozco/Documents/Projects/GrainLearning/grainLearning/tutorials/rnn/wandb/run-20230208_155309-gb8m6n42/files/model-best/assets\n",
      "\u001b[34m\u001b[1mwandb\u001b[0m: Adding directory to artifact (/Users/luisaorozco/Documents/Projects/GrainLearning/grainLearning/tutorials/rnn/wandb/run-20230208_155309-gb8m6n42/files/model-best)... Done. 0.0s\n"
     ]
    },
    {
     "name": "stdout",
     "output_type": "stream",
     "text": [
      "115/115 [==============================] - 3s 29ms/step - loss: 0.8705 - mae: 0.4411 - val_loss: 0.4094 - val_mae: 0.3963\n",
      "Epoch 3/10\n",
      "114/115 [============================>.] - ETA: 0s - loss: 0.6589 - mae: 0.3587"
     ]
    },
    {
     "name": "stderr",
     "output_type": "stream",
     "text": [
      "WARNING:absl:Found untraced functions such as lstm_cell_layer_call_fn, lstm_cell_layer_call_and_return_conditional_losses while saving (showing 2 of 2). These functions will not be directly callable after loading.\n"
     ]
    },
    {
     "name": "stdout",
     "output_type": "stream",
     "text": [
      "INFO:tensorflow:Assets written to: /Users/luisaorozco/Documents/Projects/GrainLearning/grainLearning/tutorials/rnn/wandb/run-20230208_155309-gb8m6n42/files/model-best/assets\n"
     ]
    },
    {
     "name": "stderr",
     "output_type": "stream",
     "text": [
      "INFO:tensorflow:Assets written to: /Users/luisaorozco/Documents/Projects/GrainLearning/grainLearning/tutorials/rnn/wandb/run-20230208_155309-gb8m6n42/files/model-best/assets\n",
      "\u001b[34m\u001b[1mwandb\u001b[0m: Adding directory to artifact (/Users/luisaorozco/Documents/Projects/GrainLearning/grainLearning/tutorials/rnn/wandb/run-20230208_155309-gb8m6n42/files/model-best)... Done. 0.0s\n"
     ]
    },
    {
     "name": "stdout",
     "output_type": "stream",
     "text": [
      "115/115 [==============================] - 4s 31ms/step - loss: 0.6570 - mae: 0.3583 - val_loss: 0.2245 - val_mae: 0.2943\n",
      "Epoch 4/10\n",
      "113/115 [============================>.] - ETA: 0s - loss: 0.5167 - mae: 0.2653"
     ]
    },
    {
     "name": "stderr",
     "output_type": "stream",
     "text": [
      "WARNING:absl:Found untraced functions such as lstm_cell_layer_call_fn, lstm_cell_layer_call_and_return_conditional_losses while saving (showing 2 of 2). These functions will not be directly callable after loading.\n"
     ]
    },
    {
     "name": "stdout",
     "output_type": "stream",
     "text": [
      "INFO:tensorflow:Assets written to: /Users/luisaorozco/Documents/Projects/GrainLearning/grainLearning/tutorials/rnn/wandb/run-20230208_155309-gb8m6n42/files/model-best/assets\n"
     ]
    },
    {
     "name": "stderr",
     "output_type": "stream",
     "text": [
      "INFO:tensorflow:Assets written to: /Users/luisaorozco/Documents/Projects/GrainLearning/grainLearning/tutorials/rnn/wandb/run-20230208_155309-gb8m6n42/files/model-best/assets\n",
      "\u001b[34m\u001b[1mwandb\u001b[0m: Adding directory to artifact (/Users/luisaorozco/Documents/Projects/GrainLearning/grainLearning/tutorials/rnn/wandb/run-20230208_155309-gb8m6n42/files/model-best)... Done. 0.0s\n"
     ]
    },
    {
     "name": "stdout",
     "output_type": "stream",
     "text": [
      "115/115 [==============================] - 3s 29ms/step - loss: 0.5119 - mae: 0.2647 - val_loss: 0.1259 - val_mae: 0.2203\n",
      "Epoch 5/10\n",
      "112/115 [============================>.] - ETA: 0s - loss: 0.4434 - mae: 0.2032"
     ]
    },
    {
     "name": "stderr",
     "output_type": "stream",
     "text": [
      "WARNING:absl:Found untraced functions such as lstm_cell_layer_call_fn, lstm_cell_layer_call_and_return_conditional_losses while saving (showing 2 of 2). These functions will not be directly callable after loading.\n"
     ]
    },
    {
     "name": "stdout",
     "output_type": "stream",
     "text": [
      "INFO:tensorflow:Assets written to: /Users/luisaorozco/Documents/Projects/GrainLearning/grainLearning/tutorials/rnn/wandb/run-20230208_155309-gb8m6n42/files/model-best/assets\n"
     ]
    },
    {
     "name": "stderr",
     "output_type": "stream",
     "text": [
      "INFO:tensorflow:Assets written to: /Users/luisaorozco/Documents/Projects/GrainLearning/grainLearning/tutorials/rnn/wandb/run-20230208_155309-gb8m6n42/files/model-best/assets\n",
      "\u001b[34m\u001b[1mwandb\u001b[0m: Adding directory to artifact (/Users/luisaorozco/Documents/Projects/GrainLearning/grainLearning/tutorials/rnn/wandb/run-20230208_155309-gb8m6n42/files/model-best)... Done. 0.0s\n"
     ]
    },
    {
     "name": "stdout",
     "output_type": "stream",
     "text": [
      "115/115 [==============================] - 4s 31ms/step - loss: 0.4357 - mae: 0.2027 - val_loss: 0.0960 - val_mae: 0.1939\n",
      "Epoch 6/10\n",
      "115/115 [==============================] - 2s 18ms/step - loss: 0.4275 - mae: 0.1926 - val_loss: 0.1172 - val_mae: 0.2162\n",
      "Epoch 7/10\n",
      "114/115 [============================>.] - ETA: 0s - loss: 0.4119 - mae: 0.1765"
     ]
    },
    {
     "name": "stderr",
     "output_type": "stream",
     "text": [
      "WARNING:absl:Found untraced functions such as lstm_cell_layer_call_fn, lstm_cell_layer_call_and_return_conditional_losses while saving (showing 2 of 2). These functions will not be directly callable after loading.\n"
     ]
    },
    {
     "name": "stdout",
     "output_type": "stream",
     "text": [
      "INFO:tensorflow:Assets written to: /Users/luisaorozco/Documents/Projects/GrainLearning/grainLearning/tutorials/rnn/wandb/run-20230208_155309-gb8m6n42/files/model-best/assets\n"
     ]
    },
    {
     "name": "stderr",
     "output_type": "stream",
     "text": [
      "INFO:tensorflow:Assets written to: /Users/luisaorozco/Documents/Projects/GrainLearning/grainLearning/tutorials/rnn/wandb/run-20230208_155309-gb8m6n42/files/model-best/assets\n",
      "\u001b[34m\u001b[1mwandb\u001b[0m: Adding directory to artifact (/Users/luisaorozco/Documents/Projects/GrainLearning/grainLearning/tutorials/rnn/wandb/run-20230208_155309-gb8m6n42/files/model-best)... Done. 0.0s\n"
     ]
    },
    {
     "name": "stdout",
     "output_type": "stream",
     "text": [
      "115/115 [==============================] - 3s 30ms/step - loss: 0.4103 - mae: 0.1764 - val_loss: 0.0670 - val_mae: 0.1536\n",
      "Epoch 8/10\n",
      "112/115 [============================>.] - ETA: 0s - loss: 0.4196 - mae: 0.1762"
     ]
    },
    {
     "name": "stderr",
     "output_type": "stream",
     "text": [
      "WARNING:absl:Found untraced functions such as lstm_cell_layer_call_fn, lstm_cell_layer_call_and_return_conditional_losses while saving (showing 2 of 2). These functions will not be directly callable after loading.\n"
     ]
    },
    {
     "name": "stdout",
     "output_type": "stream",
     "text": [
      "INFO:tensorflow:Assets written to: /Users/luisaorozco/Documents/Projects/GrainLearning/grainLearning/tutorials/rnn/wandb/run-20230208_155309-gb8m6n42/files/model-best/assets\n"
     ]
    },
    {
     "name": "stderr",
     "output_type": "stream",
     "text": [
      "INFO:tensorflow:Assets written to: /Users/luisaorozco/Documents/Projects/GrainLearning/grainLearning/tutorials/rnn/wandb/run-20230208_155309-gb8m6n42/files/model-best/assets\n",
      "\u001b[34m\u001b[1mwandb\u001b[0m: Adding directory to artifact (/Users/luisaorozco/Documents/Projects/GrainLearning/grainLearning/tutorials/rnn/wandb/run-20230208_155309-gb8m6n42/files/model-best)... Done. 0.0s\n"
     ]
    },
    {
     "name": "stdout",
     "output_type": "stream",
     "text": [
      "115/115 [==============================] - 3s 29ms/step - loss: 0.4117 - mae: 0.1755 - val_loss: 0.0561 - val_mae: 0.1421\n",
      "Epoch 9/10\n",
      "115/115 [==============================] - 2s 18ms/step - loss: 0.4070 - mae: 0.1699 - val_loss: 0.0567 - val_mae: 0.1407\n",
      "Epoch 10/10\n",
      "113/115 [============================>.] - ETA: 0s - loss: 0.3917 - mae: 0.1513"
     ]
    },
    {
     "name": "stderr",
     "output_type": "stream",
     "text": [
      "WARNING:absl:Found untraced functions such as lstm_cell_layer_call_fn, lstm_cell_layer_call_and_return_conditional_losses while saving (showing 2 of 2). These functions will not be directly callable after loading.\n"
     ]
    },
    {
     "name": "stdout",
     "output_type": "stream",
     "text": [
      "INFO:tensorflow:Assets written to: /Users/luisaorozco/Documents/Projects/GrainLearning/grainLearning/tutorials/rnn/wandb/run-20230208_155309-gb8m6n42/files/model-best/assets\n"
     ]
    },
    {
     "name": "stderr",
     "output_type": "stream",
     "text": [
      "INFO:tensorflow:Assets written to: /Users/luisaorozco/Documents/Projects/GrainLearning/grainLearning/tutorials/rnn/wandb/run-20230208_155309-gb8m6n42/files/model-best/assets\n",
      "\u001b[34m\u001b[1mwandb\u001b[0m: Adding directory to artifact (/Users/luisaorozco/Documents/Projects/GrainLearning/grainLearning/tutorials/rnn/wandb/run-20230208_155309-gb8m6n42/files/model-best)... Done. 0.0s\n"
     ]
    },
    {
     "name": "stdout",
     "output_type": "stream",
     "text": [
      "115/115 [==============================] - 4s 33ms/step - loss: 0.3873 - mae: 0.1510 - val_loss: 0.0493 - val_mae: 0.1300\n"
     ]
    },
    {
     "data": {
      "text/html": [
       "Waiting for W&B process to finish... <strong style=\"color:green\">(success).</strong>"
      ],
      "text/plain": [
       "<IPython.core.display.HTML object>"
      ]
     },
     "metadata": {},
     "output_type": "display_data"
    },
    {
     "data": {
      "text/html": [
       "<style>\n",
       "    table.wandb td:nth-child(1) { padding: 0 10px; text-align: left ; width: auto;} td:nth-child(2) {text-align: left ; width: 100%}\n",
       "    .wandb-row { display: flex; flex-direction: row; flex-wrap: wrap; justify-content: flex-start; width: 100% }\n",
       "    .wandb-col { display: flex; flex-direction: column; flex-basis: 100%; flex: 1; padding: 10px; }\n",
       "    </style>\n",
       "<div class=\"wandb-row\"><div class=\"wandb-col\"><h3>Run history:</h3><br/><table class=\"wandb\"><tr><td>epoch</td><td>▁▂▃▃▄▅▆▆▇█</td></tr><tr><td>loss</td><td>█▆▄▂▂▁▁▁▁▁</td></tr><tr><td>mae</td><td>█▇▅▃▂▂▁▁▁▁</td></tr><tr><td>val_loss</td><td>█▆▄▂▂▂▁▁▁▁</td></tr><tr><td>val_mae</td><td>█▇▅▃▂▃▂▁▁▁</td></tr></table><br/></div><div class=\"wandb-col\"><h3>Run summary:</h3><br/><table class=\"wandb\"><tr><td>best_epoch</td><td>9</td></tr><tr><td>best_val_loss</td><td>0.0493</td></tr><tr><td>epoch</td><td>9</td></tr><tr><td>loss</td><td>0.38728</td></tr><tr><td>mae</td><td>0.15102</td></tr><tr><td>val_loss</td><td>0.0493</td></tr><tr><td>val_mae</td><td>0.13002</td></tr></table><br/></div></div>"
      ],
      "text/plain": [
       "<IPython.core.display.HTML object>"
      ]
     },
     "metadata": {},
     "output_type": "display_data"
    },
    {
     "data": {
      "text/html": [
       "Synced <strong style=\"color:#cdcd00\">playful-rain-3</strong>: <a href=\"https://wandb.ai/luisaforozco/grainLearning-tutorials_rnn/runs/gb8m6n42\" target=\"_blank\">https://wandb.ai/luisaforozco/grainLearning-tutorials_rnn/runs/gb8m6n42</a><br/>Synced 6 W&B file(s), 1 media file(s), 25 artifact file(s) and 2 other file(s)"
      ],
      "text/plain": [
       "<IPython.core.display.HTML object>"
      ]
     },
     "metadata": {},
     "output_type": "display_data"
    },
    {
     "data": {
      "text/html": [
       "Find logs at: <code>./wandb/run-20230208_155309-gb8m6n42/logs</code>"
      ],
      "text/plain": [
       "<IPython.core.display.HTML object>"
      ]
     },
     "metadata": {},
     "output_type": "display_data"
    }
   ],
   "source": [
    "history_wandb = train_rnn.train(config=my_config)"
   ]
  },
  {
   "cell_type": "markdown",
   "id": "4f2e5d15-7e95-4fc5-a05d-0dadbd52177d",
   "metadata": {},
   "source": [
    "You have trained your first model! 🥳️\n",
    "\n",
    "Note that we have only ran 10 epochs, you can change that in the config dictionary that we defined.\n",
    "\n",
    "Also, the results have probably been synced to the wandb project that you had by default, we explain how to set that up in the documentation."
   ]
  },
  {
   "cell_type": "markdown",
   "id": "e314bee1-f7b5-47e8-9e77-311f104d9bb7",
   "metadata": {
    "tags": []
   },
   "source": [
    "## Option 2: Train using plain tensorflow "
   ]
  },
  {
   "cell_type": "code",
   "execution_count": 2,
   "id": "590c4f1e-26a4-486a-a988-3ab299202185",
   "metadata": {},
   "outputs": [],
   "source": [
    "import grainlearning.rnn.train as train_rnn\n",
    "import wandb"
   ]
  },
  {
   "cell_type": "code",
   "execution_count": 3,
   "id": "fcf30f75-1e05-4d04-93be-016a5bba7c89",
   "metadata": {},
   "outputs": [],
   "source": [
    "# dictionary with the configuration of the training\n",
    "my_config = {\n",
    "        'raw_data': '/Users/luisaorozco/Documents/Projects/GrainLearning/data/TriaxialCompression/path_sampling_rnn_Luisa.hdf5',\n",
    "        'pressure': 'All',\n",
    "        'experiment_type': 'All',\n",
    "        'window_size': 20,\n",
    "        'window_step': 1,\n",
    "        'patience': 25,\n",
    "        'epochs': 10,\n",
    "        'learning_rate': 1e-4,\n",
    "        'lstm_units': 250,\n",
    "        'dense_units': 250,\n",
    "        'batch_size': 256,\n",
    "        'standardize_outputs': True,\n",
    "        'add_e0': True,\n",
    "        'save_weights_only': False\n",
    "    }"
   ]
  },
  {
   "cell_type": "code",
   "execution_count": 4,
   "id": "468f8134-1145-4eab-8636-b83afc028e9f",
   "metadata": {},
   "outputs": [
    {
     "name": "stderr",
     "output_type": "stream",
     "text": [
      "No pad_length specified in config, using default 0.\n",
      "No train_frac specified in config, using default 0.7.\n",
      "No val_frac specified in config, using default 0.15.\n",
      "No add_pressure specified in config, using default True.\n",
      "No add_experiment_type specified in config, using default True.\n"
     ]
    },
    {
     "name": "stdin",
     "output_type": "stream",
     "text": [
      "The contents of outputs will be permanently deleted,                                 do you want to proceed? [y/n]:  y\n"
     ]
    },
    {
     "name": "stdout",
     "output_type": "stream",
     "text": [
      "Metal device set to: Apple M1 Pro\n"
     ]
    },
    {
     "name": "stderr",
     "output_type": "stream",
     "text": [
      "2023-02-08 16:07:06.669357: I tensorflow/core/common_runtime/pluggable_device/pluggable_device_factory.cc:305] Could not identify NUMA node of platform GPU ID 0, defaulting to 0. Your kernel may not have been built with NUMA support.\n",
      "2023-02-08 16:07:06.669511: I tensorflow/core/common_runtime/pluggable_device/pluggable_device_factory.cc:271] Created TensorFlow device (/job:localhost/replica:0/task:0/device:GPU:0 with 0 MB memory) -> physical PluggableDevice (device: 0, name: METAL, pci bus id: <undefined>)\n"
     ]
    },
    {
     "name": "stdout",
     "output_type": "stream",
     "text": [
      "Epoch 1/10\n"
     ]
    },
    {
     "name": "stderr",
     "output_type": "stream",
     "text": [
      "2023-02-08 16:07:07.349877: W tensorflow/core/platform/profile_utils/cpu_utils.cc:128] Failed to get CPU frequency: 0 Hz\n",
      "2023-02-08 16:07:07.351579: I tensorflow/core/grappler/optimizers/custom_graph_optimizer_registry.cc:113] Plugin optimizer for device_type GPU is enabled.\n",
      "2023-02-08 16:07:07.470909: I tensorflow/core/grappler/optimizers/custom_graph_optimizer_registry.cc:113] Plugin optimizer for device_type GPU is enabled.\n"
     ]
    },
    {
     "name": "stdout",
     "output_type": "stream",
     "text": [
      "  5/115 [>.............................] - ETA: 1s - loss: 0.7055 - mae: 0.5211  "
     ]
    },
    {
     "name": "stderr",
     "output_type": "stream",
     "text": [
      "2023-02-08 16:07:07.602574: I tensorflow/core/grappler/optimizers/custom_graph_optimizer_registry.cc:113] Plugin optimizer for device_type GPU is enabled.\n"
     ]
    },
    {
     "name": "stdout",
     "output_type": "stream",
     "text": [
      "115/115 [==============================] - ETA: 0s - loss: 1.0181 - mae: 0.5196"
     ]
    },
    {
     "name": "stderr",
     "output_type": "stream",
     "text": [
      "2023-02-08 16:07:09.693415: I tensorflow/core/grappler/optimizers/custom_graph_optimizer_registry.cc:113] Plugin optimizer for device_type GPU is enabled.\n",
      "2023-02-08 16:07:09.739827: I tensorflow/core/grappler/optimizers/custom_graph_optimizer_registry.cc:113] Plugin optimizer for device_type GPU is enabled.\n",
      "WARNING:absl:Found untraced functions such as lstm_cell_layer_call_fn, lstm_cell_layer_call_and_return_conditional_losses while saving (showing 2 of 2). These functions will not be directly callable after loading.\n"
     ]
    },
    {
     "name": "stdout",
     "output_type": "stream",
     "text": [
      "INFO:tensorflow:Assets written to: outputs/assets\n"
     ]
    },
    {
     "name": "stderr",
     "output_type": "stream",
     "text": [
      "INFO:tensorflow:Assets written to: outputs/assets\n"
     ]
    },
    {
     "name": "stdout",
     "output_type": "stream",
     "text": [
      "115/115 [==============================] - 4s 31ms/step - loss: 1.0181 - mae: 0.5196 - val_loss: 0.5334 - val_mae: 0.4520\n",
      "Epoch 2/10\n",
      "113/115 [============================>.] - ETA: 0s - loss: 0.8755 - mae: 0.4413"
     ]
    },
    {
     "name": "stderr",
     "output_type": "stream",
     "text": [
      "WARNING:absl:Found untraced functions such as lstm_cell_layer_call_fn, lstm_cell_layer_call_and_return_conditional_losses while saving (showing 2 of 2). These functions will not be directly callable after loading.\n"
     ]
    },
    {
     "name": "stdout",
     "output_type": "stream",
     "text": [
      "INFO:tensorflow:Assets written to: outputs/assets\n"
     ]
    },
    {
     "name": "stderr",
     "output_type": "stream",
     "text": [
      "INFO:tensorflow:Assets written to: outputs/assets\n"
     ]
    },
    {
     "name": "stdout",
     "output_type": "stream",
     "text": [
      "115/115 [==============================] - 3s 28ms/step - loss: 0.8705 - mae: 0.4411 - val_loss: 0.4094 - val_mae: 0.3963\n",
      "Epoch 3/10\n",
      "113/115 [============================>.] - ETA: 0s - loss: 0.6624 - mae: 0.3593"
     ]
    },
    {
     "name": "stderr",
     "output_type": "stream",
     "text": [
      "WARNING:absl:Found untraced functions such as lstm_cell_layer_call_fn, lstm_cell_layer_call_and_return_conditional_losses while saving (showing 2 of 2). These functions will not be directly callable after loading.\n"
     ]
    },
    {
     "name": "stdout",
     "output_type": "stream",
     "text": [
      "INFO:tensorflow:Assets written to: outputs/assets\n"
     ]
    },
    {
     "name": "stderr",
     "output_type": "stream",
     "text": [
      "INFO:tensorflow:Assets written to: outputs/assets\n"
     ]
    },
    {
     "name": "stdout",
     "output_type": "stream",
     "text": [
      "115/115 [==============================] - 3s 28ms/step - loss: 0.6570 - mae: 0.3583 - val_loss: 0.2245 - val_mae: 0.2943\n",
      "Epoch 4/10\n",
      "115/115 [==============================] - ETA: 0s - loss: 0.5119 - mae: 0.2647"
     ]
    },
    {
     "name": "stderr",
     "output_type": "stream",
     "text": [
      "WARNING:absl:Found untraced functions such as lstm_cell_layer_call_fn, lstm_cell_layer_call_and_return_conditional_losses while saving (showing 2 of 2). These functions will not be directly callable after loading.\n"
     ]
    },
    {
     "name": "stdout",
     "output_type": "stream",
     "text": [
      "INFO:tensorflow:Assets written to: outputs/assets\n"
     ]
    },
    {
     "name": "stderr",
     "output_type": "stream",
     "text": [
      "INFO:tensorflow:Assets written to: outputs/assets\n"
     ]
    },
    {
     "name": "stdout",
     "output_type": "stream",
     "text": [
      "115/115 [==============================] - 3s 27ms/step - loss: 0.5119 - mae: 0.2647 - val_loss: 0.1259 - val_mae: 0.2203\n",
      "Epoch 5/10\n",
      "112/115 [============================>.] - ETA: 0s - loss: 0.4434 - mae: 0.2032"
     ]
    },
    {
     "name": "stderr",
     "output_type": "stream",
     "text": [
      "WARNING:absl:Found untraced functions such as lstm_cell_layer_call_fn, lstm_cell_layer_call_and_return_conditional_losses while saving (showing 2 of 2). These functions will not be directly callable after loading.\n"
     ]
    },
    {
     "name": "stdout",
     "output_type": "stream",
     "text": [
      "INFO:tensorflow:Assets written to: outputs/assets\n"
     ]
    },
    {
     "name": "stderr",
     "output_type": "stream",
     "text": [
      "INFO:tensorflow:Assets written to: outputs/assets\n"
     ]
    },
    {
     "name": "stdout",
     "output_type": "stream",
     "text": [
      "115/115 [==============================] - 3s 28ms/step - loss: 0.4357 - mae: 0.2027 - val_loss: 0.0960 - val_mae: 0.1939\n",
      "Epoch 6/10\n",
      "115/115 [==============================] - 2s 17ms/step - loss: 0.4275 - mae: 0.1926 - val_loss: 0.1172 - val_mae: 0.2162\n",
      "Epoch 7/10\n",
      "112/115 [============================>.] - ETA: 0s - loss: 0.4178 - mae: 0.1768"
     ]
    },
    {
     "name": "stderr",
     "output_type": "stream",
     "text": [
      "WARNING:absl:Found untraced functions such as lstm_cell_layer_call_fn, lstm_cell_layer_call_and_return_conditional_losses while saving (showing 2 of 2). These functions will not be directly callable after loading.\n"
     ]
    },
    {
     "name": "stdout",
     "output_type": "stream",
     "text": [
      "INFO:tensorflow:Assets written to: outputs/assets\n"
     ]
    },
    {
     "name": "stderr",
     "output_type": "stream",
     "text": [
      "INFO:tensorflow:Assets written to: outputs/assets\n"
     ]
    },
    {
     "name": "stdout",
     "output_type": "stream",
     "text": [
      "115/115 [==============================] - 3s 27ms/step - loss: 0.4103 - mae: 0.1764 - val_loss: 0.0670 - val_mae: 0.1536\n",
      "Epoch 8/10\n",
      "112/115 [============================>.] - ETA: 0s - loss: 0.4196 - mae: 0.1762"
     ]
    },
    {
     "name": "stderr",
     "output_type": "stream",
     "text": [
      "WARNING:absl:Found untraced functions such as lstm_cell_layer_call_fn, lstm_cell_layer_call_and_return_conditional_losses while saving (showing 2 of 2). These functions will not be directly callable after loading.\n"
     ]
    },
    {
     "name": "stdout",
     "output_type": "stream",
     "text": [
      "INFO:tensorflow:Assets written to: outputs/assets\n"
     ]
    },
    {
     "name": "stderr",
     "output_type": "stream",
     "text": [
      "INFO:tensorflow:Assets written to: outputs/assets\n"
     ]
    },
    {
     "name": "stdout",
     "output_type": "stream",
     "text": [
      "115/115 [==============================] - 3s 28ms/step - loss: 0.4117 - mae: 0.1755 - val_loss: 0.0561 - val_mae: 0.1421\n",
      "Epoch 9/10\n",
      "115/115 [==============================] - 2s 17ms/step - loss: 0.4070 - mae: 0.1699 - val_loss: 0.0567 - val_mae: 0.1407\n",
      "Epoch 10/10\n",
      "112/115 [============================>.] - ETA: 0s - loss: 0.3947 - mae: 0.1514"
     ]
    },
    {
     "name": "stderr",
     "output_type": "stream",
     "text": [
      "WARNING:absl:Found untraced functions such as lstm_cell_layer_call_fn, lstm_cell_layer_call_and_return_conditional_losses while saving (showing 2 of 2). These functions will not be directly callable after loading.\n"
     ]
    },
    {
     "name": "stdout",
     "output_type": "stream",
     "text": [
      "INFO:tensorflow:Assets written to: outputs/assets\n"
     ]
    },
    {
     "name": "stderr",
     "output_type": "stream",
     "text": [
      "INFO:tensorflow:Assets written to: outputs/assets\n"
     ]
    },
    {
     "name": "stdout",
     "output_type": "stream",
     "text": [
      "115/115 [==============================] - 3s 28ms/step - loss: 0.3873 - mae: 0.1510 - val_loss: 0.0493 - val_mae: 0.1300\n"
     ]
    }
   ],
   "source": [
    "history_simple = train_rnn.train_without_wandb(config=my_config)"
   ]
  },
  {
   "cell_type": "markdown",
   "id": "51a4f455-cff8-4c21-a19c-7f233a36882c",
   "metadata": {},
   "source": [
    "### 📉 Plot the training history "
   ]
  },
  {
   "cell_type": "markdown",
   "id": "d5db6741-0fd6-478b-9c1f-fa2b1b0c6e1e",
   "metadata": {},
   "source": [
    "⚙️ First, install dependencies for ploting on jupyter notebooks"
   ]
  },
  {
   "cell_type": "code",
   "execution_count": 7,
   "id": "4387d65b-2252-4288-b469-50461f715832",
   "metadata": {},
   "outputs": [
    {
     "name": "stdout",
     "output_type": "stream",
     "text": [
      "Requirement already satisfied: matplotlib in /opt/homebrew/Caskroom/miniforge/base/envs/GL/lib/python3.9/site-packages (3.6.2)\n",
      "Requirement already satisfied: ipympl in /opt/homebrew/Caskroom/miniforge/base/envs/GL/lib/python3.9/site-packages (0.9.2)\n",
      "Requirement already satisfied: contourpy>=1.0.1 in /opt/homebrew/Caskroom/miniforge/base/envs/GL/lib/python3.9/site-packages (from matplotlib) (1.0.6)\n",
      "Requirement already satisfied: python-dateutil>=2.7 in /Users/luisaorozco/.local/lib/python3.9/site-packages (from matplotlib) (2.8.2)\n",
      "Requirement already satisfied: cycler>=0.10 in /opt/homebrew/Caskroom/miniforge/base/envs/GL/lib/python3.9/site-packages (from matplotlib) (0.11.0)\n",
      "Requirement already satisfied: numpy>=1.19 in /opt/homebrew/Caskroom/miniforge/base/envs/GL/lib/python3.9/site-packages (from matplotlib) (1.24.0)\n",
      "Requirement already satisfied: kiwisolver>=1.0.1 in /opt/homebrew/Caskroom/miniforge/base/envs/GL/lib/python3.9/site-packages (from matplotlib) (1.4.4)\n",
      "Requirement already satisfied: packaging>=20.0 in /opt/homebrew/Caskroom/miniforge/base/envs/GL/lib/python3.9/site-packages (from matplotlib) (21.3)\n",
      "Requirement already satisfied: pillow>=6.2.0 in /opt/homebrew/Caskroom/miniforge/base/envs/GL/lib/python3.9/site-packages (from matplotlib) (9.3.0)\n",
      "Requirement already satisfied: pyparsing>=2.2.1 in /opt/homebrew/Caskroom/miniforge/base/envs/GL/lib/python3.9/site-packages (from matplotlib) (3.0.9)\n",
      "Requirement already satisfied: fonttools>=4.22.0 in /opt/homebrew/Caskroom/miniforge/base/envs/GL/lib/python3.9/site-packages (from matplotlib) (4.38.0)\n",
      "Requirement already satisfied: traitlets<6 in /opt/homebrew/Caskroom/miniforge/base/envs/GL/lib/python3.9/site-packages (from ipympl) (5.8.0)\n",
      "Requirement already satisfied: ipython-genutils in /opt/homebrew/Caskroom/miniforge/base/envs/GL/lib/python3.9/site-packages (from ipympl) (0.2.0)\n",
      "Requirement already satisfied: ipywidgets<9,>=7.6.0 in /opt/homebrew/Caskroom/miniforge/base/envs/GL/lib/python3.9/site-packages (from ipympl) (8.0.4)\n",
      "Requirement already satisfied: ipython<9 in /opt/homebrew/Caskroom/miniforge/base/envs/GL/lib/python3.9/site-packages (from ipympl) (8.7.0)\n",
      "Requirement already satisfied: decorator in /opt/homebrew/Caskroom/miniforge/base/envs/GL/lib/python3.9/site-packages (from ipython<9->ipympl) (5.1.1)\n",
      "Requirement already satisfied: prompt-toolkit<3.1.0,>=3.0.11 in /opt/homebrew/Caskroom/miniforge/base/envs/GL/lib/python3.9/site-packages (from ipython<9->ipympl) (3.0.36)\n",
      "Requirement already satisfied: pygments>=2.4.0 in /opt/homebrew/Caskroom/miniforge/base/envs/GL/lib/python3.9/site-packages (from ipython<9->ipympl) (2.13.0)\n",
      "Requirement already satisfied: appnope in /opt/homebrew/Caskroom/miniforge/base/envs/GL/lib/python3.9/site-packages (from ipython<9->ipympl) (0.1.3)\n",
      "Requirement already satisfied: stack-data in /opt/homebrew/Caskroom/miniforge/base/envs/GL/lib/python3.9/site-packages (from ipython<9->ipympl) (0.6.2)\n",
      "Requirement already satisfied: matplotlib-inline in /opt/homebrew/Caskroom/miniforge/base/envs/GL/lib/python3.9/site-packages (from ipython<9->ipympl) (0.1.6)\n",
      "Requirement already satisfied: pexpect>4.3 in /opt/homebrew/Caskroom/miniforge/base/envs/GL/lib/python3.9/site-packages (from ipython<9->ipympl) (4.8.0)\n",
      "Requirement already satisfied: jedi>=0.16 in /opt/homebrew/Caskroom/miniforge/base/envs/GL/lib/python3.9/site-packages (from ipython<9->ipympl) (0.18.2)\n",
      "Requirement already satisfied: backcall in /opt/homebrew/Caskroom/miniforge/base/envs/GL/lib/python3.9/site-packages (from ipython<9->ipympl) (0.2.0)\n",
      "Requirement already satisfied: pickleshare in /opt/homebrew/Caskroom/miniforge/base/envs/GL/lib/python3.9/site-packages (from ipython<9->ipympl) (0.7.5)\n",
      "Requirement already satisfied: ipykernel>=4.5.1 in /opt/homebrew/Caskroom/miniforge/base/envs/GL/lib/python3.9/site-packages (from ipywidgets<9,>=7.6.0->ipympl) (6.20.2)\n",
      "Requirement already satisfied: jupyterlab-widgets~=3.0 in /opt/homebrew/Caskroom/miniforge/base/envs/GL/lib/python3.9/site-packages (from ipywidgets<9,>=7.6.0->ipympl) (3.0.5)\n",
      "Requirement already satisfied: widgetsnbextension~=4.0 in /opt/homebrew/Caskroom/miniforge/base/envs/GL/lib/python3.9/site-packages (from ipywidgets<9,>=7.6.0->ipympl) (4.0.5)\n",
      "Requirement already satisfied: six>=1.5 in /opt/homebrew/Caskroom/miniforge/base/envs/GL/lib/python3.9/site-packages (from python-dateutil>=2.7->matplotlib) (1.15.0)\n",
      "Requirement already satisfied: debugpy>=1.0 in /opt/homebrew/Caskroom/miniforge/base/envs/GL/lib/python3.9/site-packages (from ipykernel>=4.5.1->ipywidgets<9,>=7.6.0->ipympl) (1.6.6)\n",
      "Requirement already satisfied: jupyter-client>=6.1.12 in /opt/homebrew/Caskroom/miniforge/base/envs/GL/lib/python3.9/site-packages (from ipykernel>=4.5.1->ipywidgets<9,>=7.6.0->ipympl) (8.0.2)\n",
      "Requirement already satisfied: comm>=0.1.1 in /opt/homebrew/Caskroom/miniforge/base/envs/GL/lib/python3.9/site-packages (from ipykernel>=4.5.1->ipywidgets<9,>=7.6.0->ipympl) (0.1.2)\n",
      "Requirement already satisfied: nest-asyncio in /opt/homebrew/Caskroom/miniforge/base/envs/GL/lib/python3.9/site-packages (from ipykernel>=4.5.1->ipywidgets<9,>=7.6.0->ipympl) (1.5.6)\n",
      "Requirement already satisfied: pyzmq>=17 in /opt/homebrew/Caskroom/miniforge/base/envs/GL/lib/python3.9/site-packages (from ipykernel>=4.5.1->ipywidgets<9,>=7.6.0->ipympl) (25.0.0)\n",
      "Requirement already satisfied: psutil in /opt/homebrew/Caskroom/miniforge/base/envs/GL/lib/python3.9/site-packages (from ipykernel>=4.5.1->ipywidgets<9,>=7.6.0->ipympl) (5.9.4)\n",
      "Requirement already satisfied: tornado>=6.1 in /opt/homebrew/Caskroom/miniforge/base/envs/GL/lib/python3.9/site-packages (from ipykernel>=4.5.1->ipywidgets<9,>=7.6.0->ipympl) (6.2)\n",
      "Requirement already satisfied: parso<0.9.0,>=0.8.0 in /opt/homebrew/Caskroom/miniforge/base/envs/GL/lib/python3.9/site-packages (from jedi>=0.16->ipython<9->ipympl) (0.8.3)\n",
      "Requirement already satisfied: ptyprocess>=0.5 in /opt/homebrew/Caskroom/miniforge/base/envs/GL/lib/python3.9/site-packages (from pexpect>4.3->ipython<9->ipympl) (0.7.0)\n",
      "Requirement already satisfied: wcwidth in /opt/homebrew/Caskroom/miniforge/base/envs/GL/lib/python3.9/site-packages (from prompt-toolkit<3.1.0,>=3.0.11->ipython<9->ipympl) (0.2.5)\n",
      "Requirement already satisfied: pure-eval in /opt/homebrew/Caskroom/miniforge/base/envs/GL/lib/python3.9/site-packages (from stack-data->ipython<9->ipympl) (0.2.2)\n",
      "Requirement already satisfied: asttokens>=2.1.0 in /opt/homebrew/Caskroom/miniforge/base/envs/GL/lib/python3.9/site-packages (from stack-data->ipython<9->ipympl) (2.2.1)\n",
      "Requirement already satisfied: executing>=1.2.0 in /opt/homebrew/Caskroom/miniforge/base/envs/GL/lib/python3.9/site-packages (from stack-data->ipython<9->ipympl) (1.2.0)\n",
      "Requirement already satisfied: importlib-metadata>=4.8.3 in /opt/homebrew/Caskroom/miniforge/base/envs/GL/lib/python3.9/site-packages (from jupyter-client>=6.1.12->ipykernel>=4.5.1->ipywidgets<9,>=7.6.0->ipympl) (5.2.0)\n",
      "Requirement already satisfied: jupyter-core!=5.0.*,>=4.12 in /opt/homebrew/Caskroom/miniforge/base/envs/GL/lib/python3.9/site-packages (from jupyter-client>=6.1.12->ipykernel>=4.5.1->ipywidgets<9,>=7.6.0->ipympl) (5.2.0)\n",
      "Requirement already satisfied: zipp>=0.5 in /opt/homebrew/Caskroom/miniforge/base/envs/GL/lib/python3.9/site-packages (from importlib-metadata>=4.8.3->jupyter-client>=6.1.12->ipykernel>=4.5.1->ipywidgets<9,>=7.6.0->ipympl) (3.11.0)\n",
      "Requirement already satisfied: platformdirs>=2.5 in /opt/homebrew/Caskroom/miniforge/base/envs/GL/lib/python3.9/site-packages (from jupyter-core!=5.0.*,>=4.12->jupyter-client>=6.1.12->ipykernel>=4.5.1->ipywidgets<9,>=7.6.0->ipympl) (2.6.0)\n",
      "Note: you may need to restart the kernel to use updated packages.\n"
     ]
    }
   ],
   "source": [
    "pip install matplotlib"
   ]
  },
  {
   "cell_type": "code",
   "execution_count": 18,
   "id": "c05631e3-a9ec-44cb-9a52-abaa3405edf8",
   "metadata": {},
   "outputs": [
    {
     "data": {
      "text/plain": [
       "<matplotlib.legend.Legend at 0x2dec7bcd0>"
      ]
     },
     "execution_count": 18,
     "metadata": {},
     "output_type": "execute_result"
    },
    {
     "data": {
      "image/png": "[encoded data removed]",
      "text/plain": [
       "<Figure size 640x480 with 1 Axes>"
      ]
     },
     "metadata": {},
     "output_type": "display_data"
    }
   ],
   "source": [
    "%matplotlib inline\n",
    "from matplotlib import pyplot as plt\n",
    "plt.plot(history_simple.history['loss'], label='training loss')\n",
    "plt.plot(history_simple.history['val_loss'], label='validation loss')\n",
    "plt.xlabel(\"epoch\"); plt.ylabel(\"MSE\")\n",
    "plt.legend()"
   ]
  },
  {
   "cell_type": "markdown",
   "id": "57b3cfe7-afeb-4125-b117-4519f8da8394",
   "metadata": {},
   "source": [
    "## Next steps ☕️"
   ]
  },
  {
   "cell_type": "markdown",
   "id": "c0f204e8-bb47-4838-ae83-ccc433e5e22e",
   "metadata": {},
   "source": [
    "Now that you know how to train a rnn you should check the documentation to see how you can run sweeps using wandb.\n",
    "\n",
    "Happy coding 😊"
   ]
  }
 ],
 "metadata": {
  "kernelspec": {
   "display_name": "Python 3 (ipykernel)",
   "language": "python",
   "name": "python3"
  },
  "language_info": {
   "codemirror_mode": {
    "name": "ipython",
    "version": 3
   },
   "file_extension": ".py",
   "mimetype": "text/x-python",
   "name": "python",
   "nbconvert_exporter": "python",
   "pygments_lexer": "ipython3",
   "version": "3.9.15"
  }
 },
 "nbformat": 4,
 "nbformat_minor": 5
}
